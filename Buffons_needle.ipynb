{
  "nbformat": 4,
  "nbformat_minor": 0,
  "metadata": {
    "colab": {
      "name": "Buffons_needle.ipynb",
      "provenance": [],
      "collapsed_sections": [],
      "authorship_tag": "ABX9TyNr5WCh/To4P6mOvKDvoSCn",
      "include_colab_link": true
    },
    "kernelspec": {
      "display_name": "Python 3",
      "name": "python3"
    },
    "language_info": {
      "name": "python"
    }
  },
  "cells": [
    {
      "cell_type": "markdown",
      "metadata": {
        "id": "view-in-github",
        "colab_type": "text"
      },
      "source": [
        "<a href=\"https://colab.research.google.com/github/chowell2000/Buffons_needle/blob/main/Buffons_needle.ipynb\" target=\"_parent\"><img src=\"https://colab.research.google.com/assets/colab-badge.svg\" alt=\"Open In Colab\"/></a>"
      ]
    },
    {
      "cell_type": "code",
      "metadata": {
        "id": "bOL_PBsNsOgs"
      },
      "source": [
        "import math\n",
        "import numpy as np\n",
        "import pandas as pd\n",
        "import random\n",
        "from scipy import stats\n"
      ],
      "execution_count": 1,
      "outputs": []
    },
    {
      "cell_type": "code",
      "metadata": {
        "id": "E7RT7OGkFB-W"
      },
      "source": [
        "random = random.SystemRandom()"
      ],
      "execution_count": 2,
      "outputs": []
    },
    {
      "cell_type": "code",
      "metadata": {
        "id": "UeeYFTlBT7KY"
      },
      "source": [
        "tries = 100000000\n",
        "\n",
        "random.seed(42)\n"
      ],
      "execution_count": 26,
      "outputs": []
    },
    {
      "cell_type": "code",
      "metadata": {
        "id": "7XcBP0HPrpo-",
        "colab": {
          "base_uri": "https://localhost:8080/"
        },
        "outputId": "9ae9fddd-08f6-470c-f18c-dda25936d331"
      },
      "source": [
        "crosses = 0\n",
        "\n",
        "for i in range(tries):\n",
        "  theta = random.random() * math.pi *.5\n",
        "  distance = random.random() * .5\n",
        "  #print(math.sin(theta))\n",
        "  #print(distance)\n",
        "  if math.sin(theta) * .5 >= distance:\n",
        "    crosses += 1\n",
        "\n",
        "print(crosses)\n",
        "print(2 * tries/crosses)"
      ],
      "execution_count": 27,
      "outputs": [
        {
          "output_type": "stream",
          "text": [
            "63661494\n",
            "3.141616500548982\n"
          ],
          "name": "stdout"
        }
      ]
    },
    {
      "cell_type": "code",
      "metadata": {
        "id": "Imqwy075VsQM"
      },
      "source": [
        ""
      ],
      "execution_count": null,
      "outputs": []
    },
    {
      "cell_type": "code",
      "metadata": {
        "colab": {
          "base_uri": "https://localhost:8080/"
        },
        "id": "7eO0PRrME-YT",
        "outputId": "b6a114cb-22f5-4c98-a773-80d70b33edf8"
      },
      "source": [
        "pilist = []\n",
        "crosses = 0\n",
        "tries = 1000\n",
        "random.seed(7)\n",
        "\n",
        "while tries < 100000001:\n",
        "  for i in range(1000):\n",
        "    theta = rando.random() * math.pi *.5\n",
        "    distance = rando.random() * .5\n",
        "    if math.sin(theta) * .5 >= distance:\n",
        "      crosses += 1\n",
        "  \n",
        "  approxpi = 2 * tries/crosses\n",
        "  pilist.append([tries, approxpi])\n",
        "  # print(approxpi)\n",
        "  # print(crosses)\n",
        "  # print(pidata)\n",
        "  tries += 1000\n",
        "  # crosses = 0\n",
        "\n",
        "\n",
        "pidata2 = pd.DataFrame(data = pilist,columns=['tries', 'result'] )\n",
        "\n",
        "\n",
        "\n",
        "crosses = 0\n",
        "# tries = 1000000m\n",
        "\n",
        "\n",
        "for i in range(tries):\n",
        "  theta = random.random() * math.pi *.5\n",
        "  distance = random.random() * .5\n",
        "  #print(math.sin(theta))\n",
        "  #print(distance)\n",
        "  if math.sin(theta) * .5 >= distance:\n",
        "    crosses += 1\n",
        "\n",
        "print(crosses)\n",
        "print(2 * tries/crosses)"
      ],
      "execution_count": 28,
      "outputs": [
        {
          "output_type": "stream",
          "text": [
            "63667133\n",
            "3.1413696608578245\n"
          ],
          "name": "stdout"
        }
      ]
    },
    {
      "cell_type": "code",
      "metadata": {
        "colab": {
          "background_save": true
        },
        "id": "wMG1c3JiCrJa",
        "outputId": "00f74a57-248d-4869-ac37-24420cb3866b"
      },
      "source": [
        "rando = random.SystemRandom()\n",
        "print(rando.random())"
      ],
      "execution_count": null,
      "outputs": [
        {
          "output_type": "stream",
          "text": [
            "0.3140449229075203\n"
          ],
          "name": "stdout"
        }
      ]
    },
    {
      "cell_type": "code",
      "metadata": {
        "colab": {
          "base_uri": "https://localhost:8080/",
          "height": 204
        },
        "id": "ZnOg_xo_kjk_",
        "outputId": "433bb8c4-a980-4ea8-fc38-26cd45c391d2"
      },
      "source": [
        "pidata.head()"
      ],
      "execution_count": 16,
      "outputs": [
        {
          "output_type": "execute_result",
          "data": {
            "text/html": [
              "<div>\n",
              "<style scoped>\n",
              "    .dataframe tbody tr th:only-of-type {\n",
              "        vertical-align: middle;\n",
              "    }\n",
              "\n",
              "    .dataframe tbody tr th {\n",
              "        vertical-align: top;\n",
              "    }\n",
              "\n",
              "    .dataframe thead th {\n",
              "        text-align: right;\n",
              "    }\n",
              "</style>\n",
              "<table border=\"1\" class=\"dataframe\">\n",
              "  <thead>\n",
              "    <tr style=\"text-align: right;\">\n",
              "      <th></th>\n",
              "      <th>tries</th>\n",
              "      <th>result</th>\n",
              "    </tr>\n",
              "  </thead>\n",
              "  <tbody>\n",
              "    <tr>\n",
              "      <th>0</th>\n",
              "      <td>1000</td>\n",
              "      <td>3.241491</td>\n",
              "    </tr>\n",
              "    <tr>\n",
              "      <th>1</th>\n",
              "      <td>2000</td>\n",
              "      <td>3.115265</td>\n",
              "    </tr>\n",
              "    <tr>\n",
              "      <th>2</th>\n",
              "      <td>3000</td>\n",
              "      <td>3.134796</td>\n",
              "    </tr>\n",
              "    <tr>\n",
              "      <th>3</th>\n",
              "      <td>4000</td>\n",
              "      <td>3.149606</td>\n",
              "    </tr>\n",
              "    <tr>\n",
              "      <th>4</th>\n",
              "      <td>5000</td>\n",
              "      <td>3.185728</td>\n",
              "    </tr>\n",
              "  </tbody>\n",
              "</table>\n",
              "</div>"
            ],
            "text/plain": [
              "   tries    result\n",
              "0   1000  3.241491\n",
              "1   2000  3.115265\n",
              "2   3000  3.134796\n",
              "3   4000  3.149606\n",
              "4   5000  3.185728"
            ]
          },
          "metadata": {
            "tags": []
          },
          "execution_count": 16
        }
      ]
    },
    {
      "cell_type": "code",
      "metadata": {
        "colab": {
          "base_uri": "https://localhost:8080/",
          "height": 483
        },
        "id": "xXrmCuS2Doue",
        "outputId": "ffc8977b-0280-4541-da41-c817a7035412"
      },
      "source": [
        "# 'test'`\n",
        "pidata.head(15)\n",
        "pidata.tail(14)"
      ],
      "execution_count": 5,
      "outputs": [
        {
          "output_type": "execute_result",
          "data": {
            "text/html": [
              "<div>\n",
              "<style scoped>\n",
              "    .dataframe tbody tr th:only-of-type {\n",
              "        vertical-align: middle;\n",
              "    }\n",
              "\n",
              "    .dataframe tbody tr th {\n",
              "        vertical-align: top;\n",
              "    }\n",
              "\n",
              "    .dataframe thead th {\n",
              "        text-align: right;\n",
              "    }\n",
              "</style>\n",
              "<table border=\"1\" class=\"dataframe\">\n",
              "  <thead>\n",
              "    <tr style=\"text-align: right;\">\n",
              "      <th></th>\n",
              "      <th>tries</th>\n",
              "      <th>result</th>\n",
              "    </tr>\n",
              "  </thead>\n",
              "  <tbody>\n",
              "    <tr>\n",
              "      <th>985</th>\n",
              "      <td>986000</td>\n",
              "      <td>3.144002</td>\n",
              "    </tr>\n",
              "    <tr>\n",
              "      <th>986</th>\n",
              "      <td>987000</td>\n",
              "      <td>3.142702</td>\n",
              "    </tr>\n",
              "    <tr>\n",
              "      <th>987</th>\n",
              "      <td>988000</td>\n",
              "      <td>3.142209</td>\n",
              "    </tr>\n",
              "    <tr>\n",
              "      <th>988</th>\n",
              "      <td>989000</td>\n",
              "      <td>3.142930</td>\n",
              "    </tr>\n",
              "    <tr>\n",
              "      <th>989</th>\n",
              "      <td>990000</td>\n",
              "      <td>3.137076</td>\n",
              "    </tr>\n",
              "    <tr>\n",
              "      <th>990</th>\n",
              "      <td>991000</td>\n",
              "      <td>3.145532</td>\n",
              "    </tr>\n",
              "    <tr>\n",
              "      <th>991</th>\n",
              "      <td>992000</td>\n",
              "      <td>3.140120</td>\n",
              "    </tr>\n",
              "    <tr>\n",
              "      <th>992</th>\n",
              "      <td>993000</td>\n",
              "      <td>3.141043</td>\n",
              "    </tr>\n",
              "    <tr>\n",
              "      <th>993</th>\n",
              "      <td>994000</td>\n",
              "      <td>3.139103</td>\n",
              "    </tr>\n",
              "    <tr>\n",
              "      <th>994</th>\n",
              "      <td>995000</td>\n",
              "      <td>3.140089</td>\n",
              "    </tr>\n",
              "    <tr>\n",
              "      <th>995</th>\n",
              "      <td>996000</td>\n",
              "      <td>3.141356</td>\n",
              "    </tr>\n",
              "    <tr>\n",
              "      <th>996</th>\n",
              "      <td>997000</td>\n",
              "      <td>3.140128</td>\n",
              "    </tr>\n",
              "    <tr>\n",
              "      <th>997</th>\n",
              "      <td>998000</td>\n",
              "      <td>3.143203</td>\n",
              "    </tr>\n",
              "    <tr>\n",
              "      <th>998</th>\n",
              "      <td>999000</td>\n",
              "      <td>3.137326</td>\n",
              "    </tr>\n",
              "  </tbody>\n",
              "</table>\n",
              "</div>"
            ],
            "text/plain": [
              "      tries    result\n",
              "985  986000  3.144002\n",
              "986  987000  3.142702\n",
              "987  988000  3.142209\n",
              "988  989000  3.142930\n",
              "989  990000  3.137076\n",
              "990  991000  3.145532\n",
              "991  992000  3.140120\n",
              "992  993000  3.141043\n",
              "993  994000  3.139103\n",
              "994  995000  3.140089\n",
              "995  996000  3.141356\n",
              "996  997000  3.140128\n",
              "997  998000  3.143203\n",
              "998  999000  3.137326"
            ]
          },
          "metadata": {
            "tags": []
          },
          "execution_count": 5
        }
      ]
    },
    {
      "cell_type": "code",
      "metadata": {
        "colab": {
          "base_uri": "https://localhost:8080/",
          "height": 297
        },
        "id": "TKTz3JcmvCfP",
        "outputId": "c36a09d1-1beb-41c7-c850-2ebe7aa7c224"
      },
      "source": [
        "pidata.describe()"
      ],
      "execution_count": 8,
      "outputs": [
        {
          "output_type": "execute_result",
          "data": {
            "text/html": [
              "<div>\n",
              "<style scoped>\n",
              "    .dataframe tbody tr th:only-of-type {\n",
              "        vertical-align: middle;\n",
              "    }\n",
              "\n",
              "    .dataframe tbody tr th {\n",
              "        vertical-align: top;\n",
              "    }\n",
              "\n",
              "    .dataframe thead th {\n",
              "        text-align: right;\n",
              "    }\n",
              "</style>\n",
              "<table border=\"1\" class=\"dataframe\">\n",
              "  <thead>\n",
              "    <tr style=\"text-align: right;\">\n",
              "      <th></th>\n",
              "      <th>tries</th>\n",
              "      <th>result</th>\n",
              "    </tr>\n",
              "  </thead>\n",
              "  <tbody>\n",
              "    <tr>\n",
              "      <th>count</th>\n",
              "      <td>999.000000</td>\n",
              "      <td>999.000000</td>\n",
              "    </tr>\n",
              "    <tr>\n",
              "      <th>mean</th>\n",
              "      <td>500000.000000</td>\n",
              "      <td>3.141505</td>\n",
              "    </tr>\n",
              "    <tr>\n",
              "      <th>std</th>\n",
              "      <td>288530.760925</td>\n",
              "      <td>0.006551</td>\n",
              "    </tr>\n",
              "    <tr>\n",
              "      <th>min</th>\n",
              "      <td>1000.000000</td>\n",
              "      <td>3.099465</td>\n",
              "    </tr>\n",
              "    <tr>\n",
              "      <th>25%</th>\n",
              "      <td>250500.000000</td>\n",
              "      <td>3.139067</td>\n",
              "    </tr>\n",
              "    <tr>\n",
              "      <th>50%</th>\n",
              "      <td>500000.000000</td>\n",
              "      <td>3.141636</td>\n",
              "    </tr>\n",
              "    <tr>\n",
              "      <th>75%</th>\n",
              "      <td>749500.000000</td>\n",
              "      <td>3.144033</td>\n",
              "    </tr>\n",
              "    <tr>\n",
              "      <th>max</th>\n",
              "      <td>999000.000000</td>\n",
              "      <td>3.241491</td>\n",
              "    </tr>\n",
              "  </tbody>\n",
              "</table>\n",
              "</div>"
            ],
            "text/plain": [
              "               tries      result\n",
              "count     999.000000  999.000000\n",
              "mean   500000.000000    3.141505\n",
              "std    288530.760925    0.006551\n",
              "min      1000.000000    3.099465\n",
              "25%    250500.000000    3.139067\n",
              "50%    500000.000000    3.141636\n",
              "75%    749500.000000    3.144033\n",
              "max    999000.000000    3.241491"
            ]
          },
          "metadata": {
            "tags": []
          },
          "execution_count": 8
        }
      ]
    },
    {
      "cell_type": "code",
      "metadata": {
        "colab": {
          "base_uri": "https://localhost:8080/",
          "height": 297
        },
        "id": "viJZBu3TW3eJ",
        "outputId": "74f2aec4-3171-4e7b-db60-99d28017743f"
      },
      "source": [
        "pidata[(np.abs(stats.zscore(pidata)) < 2).all(axis=1)].describe()"
      ],
      "execution_count": 10,
      "outputs": [
        {
          "output_type": "execute_result",
          "data": {
            "text/html": [
              "<div>\n",
              "<style scoped>\n",
              "    .dataframe tbody tr th:only-of-type {\n",
              "        vertical-align: middle;\n",
              "    }\n",
              "\n",
              "    .dataframe tbody tr th {\n",
              "        vertical-align: top;\n",
              "    }\n",
              "\n",
              "    .dataframe thead th {\n",
              "        text-align: right;\n",
              "    }\n",
              "</style>\n",
              "<table border=\"1\" class=\"dataframe\">\n",
              "  <thead>\n",
              "    <tr style=\"text-align: right;\">\n",
              "      <th></th>\n",
              "      <th>tries</th>\n",
              "      <th>result</th>\n",
              "    </tr>\n",
              "  </thead>\n",
              "  <tbody>\n",
              "    <tr>\n",
              "      <th>count</th>\n",
              "      <td>959.000000</td>\n",
              "      <td>959.000000</td>\n",
              "    </tr>\n",
              "    <tr>\n",
              "      <th>mean</th>\n",
              "      <td>518509.906152</td>\n",
              "      <td>3.141491</td>\n",
              "    </tr>\n",
              "    <tr>\n",
              "      <th>std</th>\n",
              "      <td>279381.376816</td>\n",
              "      <td>0.003958</td>\n",
              "    </tr>\n",
              "    <tr>\n",
              "      <th>min</th>\n",
              "      <td>3000.000000</td>\n",
              "      <td>3.128507</td>\n",
              "    </tr>\n",
              "    <tr>\n",
              "      <th>25%</th>\n",
              "      <td>280500.000000</td>\n",
              "      <td>3.139144</td>\n",
              "    </tr>\n",
              "    <tr>\n",
              "      <th>50%</th>\n",
              "      <td>520000.000000</td>\n",
              "      <td>3.141660</td>\n",
              "    </tr>\n",
              "    <tr>\n",
              "      <th>75%</th>\n",
              "      <td>759500.000000</td>\n",
              "      <td>3.143964</td>\n",
              "    </tr>\n",
              "    <tr>\n",
              "      <th>max</th>\n",
              "      <td>999000.000000</td>\n",
              "      <td>3.154574</td>\n",
              "    </tr>\n",
              "  </tbody>\n",
              "</table>\n",
              "</div>"
            ],
            "text/plain": [
              "               tries      result\n",
              "count     959.000000  959.000000\n",
              "mean   518509.906152    3.141491\n",
              "std    279381.376816    0.003958\n",
              "min      3000.000000    3.128507\n",
              "25%    280500.000000    3.139144\n",
              "50%    520000.000000    3.141660\n",
              "75%    759500.000000    3.143964\n",
              "max    999000.000000    3.154574"
            ]
          },
          "metadata": {
            "tags": []
          },
          "execution_count": 10
        }
      ]
    },
    {
      "cell_type": "code",
      "metadata": {
        "colab": {
          "base_uri": "https://localhost:8080/",
          "height": 297
        },
        "id": "FRuBhqInmFHl",
        "outputId": "29fd7d94-4cef-4d84-b52a-90be76908690"
      },
      "source": [
        "pidata2.describe()"
      ],
      "execution_count": 29,
      "outputs": [
        {
          "output_type": "execute_result",
          "data": {
            "text/html": [
              "<div>\n",
              "<style scoped>\n",
              "    .dataframe tbody tr th:only-of-type {\n",
              "        vertical-align: middle;\n",
              "    }\n",
              "\n",
              "    .dataframe tbody tr th {\n",
              "        vertical-align: top;\n",
              "    }\n",
              "\n",
              "    .dataframe thead th {\n",
              "        text-align: right;\n",
              "    }\n",
              "</style>\n",
              "<table border=\"1\" class=\"dataframe\">\n",
              "  <thead>\n",
              "    <tr style=\"text-align: right;\">\n",
              "      <th></th>\n",
              "      <th>tries</th>\n",
              "      <th>result</th>\n",
              "    </tr>\n",
              "  </thead>\n",
              "  <tbody>\n",
              "    <tr>\n",
              "      <th>count</th>\n",
              "      <td>1.000000e+05</td>\n",
              "      <td>100000.000000</td>\n",
              "    </tr>\n",
              "    <tr>\n",
              "      <th>mean</th>\n",
              "      <td>5.000050e+07</td>\n",
              "      <td>3.141632</td>\n",
              "    </tr>\n",
              "    <tr>\n",
              "      <th>std</th>\n",
              "      <td>2.886766e+07</td>\n",
              "      <td>0.000631</td>\n",
              "    </tr>\n",
              "    <tr>\n",
              "      <th>min</th>\n",
              "      <td>1.000000e+03</td>\n",
              "      <td>3.058104</td>\n",
              "    </tr>\n",
              "    <tr>\n",
              "      <th>25%</th>\n",
              "      <td>2.500075e+07</td>\n",
              "      <td>3.141443</td>\n",
              "    </tr>\n",
              "    <tr>\n",
              "      <th>50%</th>\n",
              "      <td>5.000050e+07</td>\n",
              "      <td>3.141518</td>\n",
              "    </tr>\n",
              "    <tr>\n",
              "      <th>75%</th>\n",
              "      <td>7.500025e+07</td>\n",
              "      <td>3.141751</td>\n",
              "    </tr>\n",
              "    <tr>\n",
              "      <th>max</th>\n",
              "      <td>1.000000e+08</td>\n",
              "      <td>3.166436</td>\n",
              "    </tr>\n",
              "  </tbody>\n",
              "</table>\n",
              "</div>"
            ],
            "text/plain": [
              "              tries         result\n",
              "count  1.000000e+05  100000.000000\n",
              "mean   5.000050e+07       3.141632\n",
              "std    2.886766e+07       0.000631\n",
              "min    1.000000e+03       3.058104\n",
              "25%    2.500075e+07       3.141443\n",
              "50%    5.000050e+07       3.141518\n",
              "75%    7.500025e+07       3.141751\n",
              "max    1.000000e+08       3.166436"
            ]
          },
          "metadata": {
            "tags": []
          },
          "execution_count": 29
        }
      ]
    },
    {
      "cell_type": "code",
      "metadata": {
        "colab": {
          "base_uri": "https://localhost:8080/",
          "height": 297
        },
        "id": "wM5-UYuxmOfW",
        "outputId": "10638702-584e-42e3-aa81-e674748dd8ea"
      },
      "source": [
        "pidata2[(np.abs(stats.zscore(pidata2)) < 3).all(axis=1)].describe()"
      ],
      "execution_count": 31,
      "outputs": [
        {
          "output_type": "execute_result",
          "data": {
            "text/html": [
              "<div>\n",
              "<style scoped>\n",
              "    .dataframe tbody tr th:only-of-type {\n",
              "        vertical-align: middle;\n",
              "    }\n",
              "\n",
              "    .dataframe tbody tr th {\n",
              "        vertical-align: top;\n",
              "    }\n",
              "\n",
              "    .dataframe thead th {\n",
              "        text-align: right;\n",
              "    }\n",
              "</style>\n",
              "<table border=\"1\" class=\"dataframe\">\n",
              "  <thead>\n",
              "    <tr style=\"text-align: right;\">\n",
              "      <th></th>\n",
              "      <th>tries</th>\n",
              "      <th>result</th>\n",
              "    </tr>\n",
              "  </thead>\n",
              "  <tbody>\n",
              "    <tr>\n",
              "      <th>count</th>\n",
              "      <td>9.877900e+04</td>\n",
              "      <td>98779.000000</td>\n",
              "    </tr>\n",
              "    <tr>\n",
              "      <th>mean</th>\n",
              "      <td>5.060822e+07</td>\n",
              "      <td>3.141599</td>\n",
              "    </tr>\n",
              "    <tr>\n",
              "      <th>std</th>\n",
              "      <td>2.852002e+07</td>\n",
              "      <td>0.000237</td>\n",
              "    </tr>\n",
              "    <tr>\n",
              "      <th>min</th>\n",
              "      <td>1.100000e+04</td>\n",
              "      <td>3.139743</td>\n",
              "    </tr>\n",
              "    <tr>\n",
              "      <th>25%</th>\n",
              "      <td>2.591650e+07</td>\n",
              "      <td>3.141442</td>\n",
              "    </tr>\n",
              "    <tr>\n",
              "      <th>50%</th>\n",
              "      <td>5.061100e+07</td>\n",
              "      <td>3.141516</td>\n",
              "    </tr>\n",
              "    <tr>\n",
              "      <th>75%</th>\n",
              "      <td>7.530550e+07</td>\n",
              "      <td>3.141745</td>\n",
              "    </tr>\n",
              "    <tr>\n",
              "      <th>max</th>\n",
              "      <td>1.000000e+08</td>\n",
              "      <td>3.143524</td>\n",
              "    </tr>\n",
              "  </tbody>\n",
              "</table>\n",
              "</div>"
            ],
            "text/plain": [
              "              tries        result\n",
              "count  9.877900e+04  98779.000000\n",
              "mean   5.060822e+07      3.141599\n",
              "std    2.852002e+07      0.000237\n",
              "min    1.100000e+04      3.139743\n",
              "25%    2.591650e+07      3.141442\n",
              "50%    5.061100e+07      3.141516\n",
              "75%    7.530550e+07      3.141745\n",
              "max    1.000000e+08      3.143524"
            ]
          },
          "metadata": {
            "tags": []
          },
          "execution_count": 31
        }
      ]
    },
    {
      "cell_type": "code",
      "metadata": {
        "colab": {
          "base_uri": "https://localhost:8080/",
          "height": 669
        },
        "id": "0u5kBY-t8nYA",
        "outputId": "c4032961-4feb-487b-d200-e91d2ffbaa6a"
      },
      "source": [
        "pidata2.tail(20)"
      ],
      "execution_count": 32,
      "outputs": [
        {
          "output_type": "execute_result",
          "data": {
            "text/html": [
              "<div>\n",
              "<style scoped>\n",
              "    .dataframe tbody tr th:only-of-type {\n",
              "        vertical-align: middle;\n",
              "    }\n",
              "\n",
              "    .dataframe tbody tr th {\n",
              "        vertical-align: top;\n",
              "    }\n",
              "\n",
              "    .dataframe thead th {\n",
              "        text-align: right;\n",
              "    }\n",
              "</style>\n",
              "<table border=\"1\" class=\"dataframe\">\n",
              "  <thead>\n",
              "    <tr style=\"text-align: right;\">\n",
              "      <th></th>\n",
              "      <th>tries</th>\n",
              "      <th>result</th>\n",
              "    </tr>\n",
              "  </thead>\n",
              "  <tbody>\n",
              "    <tr>\n",
              "      <th>99980</th>\n",
              "      <td>99981000</td>\n",
              "      <td>3.141490</td>\n",
              "    </tr>\n",
              "    <tr>\n",
              "      <th>99981</th>\n",
              "      <td>99982000</td>\n",
              "      <td>3.141490</td>\n",
              "    </tr>\n",
              "    <tr>\n",
              "      <th>99982</th>\n",
              "      <td>99983000</td>\n",
              "      <td>3.141491</td>\n",
              "    </tr>\n",
              "    <tr>\n",
              "      <th>99983</th>\n",
              "      <td>99984000</td>\n",
              "      <td>3.141491</td>\n",
              "    </tr>\n",
              "    <tr>\n",
              "      <th>99984</th>\n",
              "      <td>99985000</td>\n",
              "      <td>3.141491</td>\n",
              "    </tr>\n",
              "    <tr>\n",
              "      <th>99985</th>\n",
              "      <td>99986000</td>\n",
              "      <td>3.141491</td>\n",
              "    </tr>\n",
              "    <tr>\n",
              "      <th>99986</th>\n",
              "      <td>99987000</td>\n",
              "      <td>3.141491</td>\n",
              "    </tr>\n",
              "    <tr>\n",
              "      <th>99987</th>\n",
              "      <td>99988000</td>\n",
              "      <td>3.141491</td>\n",
              "    </tr>\n",
              "    <tr>\n",
              "      <th>99988</th>\n",
              "      <td>99989000</td>\n",
              "      <td>3.141491</td>\n",
              "    </tr>\n",
              "    <tr>\n",
              "      <th>99989</th>\n",
              "      <td>99990000</td>\n",
              "      <td>3.141488</td>\n",
              "    </tr>\n",
              "    <tr>\n",
              "      <th>99990</th>\n",
              "      <td>99991000</td>\n",
              "      <td>3.141488</td>\n",
              "    </tr>\n",
              "    <tr>\n",
              "      <th>99991</th>\n",
              "      <td>99992000</td>\n",
              "      <td>3.141488</td>\n",
              "    </tr>\n",
              "    <tr>\n",
              "      <th>99992</th>\n",
              "      <td>99993000</td>\n",
              "      <td>3.141487</td>\n",
              "    </tr>\n",
              "    <tr>\n",
              "      <th>99993</th>\n",
              "      <td>99994000</td>\n",
              "      <td>3.141488</td>\n",
              "    </tr>\n",
              "    <tr>\n",
              "      <th>99994</th>\n",
              "      <td>99995000</td>\n",
              "      <td>3.141487</td>\n",
              "    </tr>\n",
              "    <tr>\n",
              "      <th>99995</th>\n",
              "      <td>99996000</td>\n",
              "      <td>3.141487</td>\n",
              "    </tr>\n",
              "    <tr>\n",
              "      <th>99996</th>\n",
              "      <td>99997000</td>\n",
              "      <td>3.141485</td>\n",
              "    </tr>\n",
              "    <tr>\n",
              "      <th>99997</th>\n",
              "      <td>99998000</td>\n",
              "      <td>3.141486</td>\n",
              "    </tr>\n",
              "    <tr>\n",
              "      <th>99998</th>\n",
              "      <td>99999000</td>\n",
              "      <td>3.141486</td>\n",
              "    </tr>\n",
              "    <tr>\n",
              "      <th>99999</th>\n",
              "      <td>100000000</td>\n",
              "      <td>3.141488</td>\n",
              "    </tr>\n",
              "  </tbody>\n",
              "</table>\n",
              "</div>"
            ],
            "text/plain": [
              "           tries    result\n",
              "99980   99981000  3.141490\n",
              "99981   99982000  3.141490\n",
              "99982   99983000  3.141491\n",
              "99983   99984000  3.141491\n",
              "99984   99985000  3.141491\n",
              "99985   99986000  3.141491\n",
              "99986   99987000  3.141491\n",
              "99987   99988000  3.141491\n",
              "99988   99989000  3.141491\n",
              "99989   99990000  3.141488\n",
              "99990   99991000  3.141488\n",
              "99991   99992000  3.141488\n",
              "99992   99993000  3.141487\n",
              "99993   99994000  3.141488\n",
              "99994   99995000  3.141487\n",
              "99995   99996000  3.141487\n",
              "99996   99997000  3.141485\n",
              "99997   99998000  3.141486\n",
              "99998   99999000  3.141486\n",
              "99999  100000000  3.141488"
            ]
          },
          "metadata": {
            "tags": []
          },
          "execution_count": 32
        }
      ]
    },
    {
      "cell_type": "code",
      "metadata": {
        "colab": {
          "base_uri": "https://localhost:8080/",
          "height": 279
        },
        "id": "u7o2IHxJP35V",
        "outputId": "80b535c0-e0ea-464f-fb9e-971f50568719"
      },
      "source": [
        "pidata2.plot(x= 'tries', y= 'result');"
      ],
      "execution_count": 53,
      "outputs": [
        {
          "output_type": "display_data",
          "data": {
            "image/png": "[encoded data removed]",
            "text/plain": [
              "<Figure size 432x288 with 1 Axes>"
            ]
          },
          "metadata": {
            "tags": [],
            "needs_background": "light"
          }
        }
      ]
    },
    {
      "cell_type": "code",
      "metadata": {
        "colab": {
          "base_uri": "https://localhost:8080/",
          "height": 279
        },
        "id": "e4eRalurOecC",
        "outputId": "4e007904-297f-4168-d5b1-416a8cb0df36"
      },
      "source": [
        "pidata2[0:50].plot(x= 'tries', y= 'result');"
      ],
      "execution_count": 60,
      "outputs": [
        {
          "output_type": "display_data",
          "data": {
            "image/png": "[encoded data removed]",
            "text/plain": [
              "<Figure size 432x288 with 1 Axes>"
            ]
          },
          "metadata": {
            "tags": [],
            "needs_background": "light"
          }
        }
      ]
    },
    {
      "cell_type": "code",
      "metadata": {
        "colab": {
          "base_uri": "https://localhost:8080/",
          "height": 279
        },
        "id": "g42C08oMODgp",
        "outputId": "123a6780-58d0-4f9b-dc55-df5ad97cc873"
      },
      "source": [
        "pidata2[10:100].plot(x= 'tries', y= 'result');"
      ],
      "execution_count": 50,
      "outputs": [
        {
          "output_type": "display_data",
          "data": {
            "image/png": "[encoded data removed]",
            "text/plain": [
              "<Figure size 432x288 with 1 Axes>"
            ]
          },
          "metadata": {
            "tags": [],
            "needs_background": "light"
          }
        }
      ]
    },
    {
      "cell_type": "code",
      "metadata": {
        "colab": {
          "base_uri": "https://localhost:8080/",
          "height": 279
        },
        "id": "j64mAuJkOD0D",
        "outputId": "79e60700-ef0b-49d6-9b00-6826df492a4a"
      },
      "source": [
        "pidata2[100:1000].plot(x= 'tries', y= 'result');"
      ],
      "execution_count": 51,
      "outputs": [
        {
          "output_type": "display_data",
          "data": {
            "image/png": "[encoded data removed]",
            "text/plain": [
              "<Figure size 432x288 with 1 Axes>"
            ]
          },
          "metadata": {
            "tags": [],
            "needs_background": "light"
          }
        }
      ]
    },
    {
      "cell_type": "code",
      "metadata": {
        "colab": {
          "base_uri": "https://localhost:8080/",
          "height": 279
        },
        "id": "JZwbqLpuQCKV",
        "outputId": "8f5a1a95-a1c4-4be1-8f12-a17e0a9b5727"
      },
      "source": [
        "pidata2[1000:-1].plot(x= 'tries', y= 'result');"
      ],
      "execution_count": 56,
      "outputs": [
        {
          "output_type": "display_data",
          "data": {
            "image/png": "[encoded data removed]",
            "text/plain": [
              "<Figure size 432x288 with 1 Axes>"
            ]
          },
          "metadata": {
            "tags": [],
            "needs_background": "light"
          }
        }
      ]
    },
    {
      "cell_type": "code",
      "metadata": {
        "colab": {
          "base_uri": "https://localhost:8080/",
          "height": 279
        },
        "id": "1NQI-GCapiO-",
        "outputId": "ab75387d-2f1b-4e8c-b2ec-fe32ba7d90be"
      },
      "source": [
        "pidata2[10000:].plot(x = 'tries', y= 'result');"
      ],
      "execution_count": 59,
      "outputs": [
        {
          "output_type": "display_data",
          "data": {
            "image/png": "[encoded data removed]",
            "text/plain": [
              "<Figure size 432x288 with 1 Axes>"
            ]
          },
          "metadata": {
            "tags": [],
            "needs_background": "light"
          }
        }
      ]
    },
    {
      "cell_type": "code",
      "metadata": {
        "colab": {
          "base_uri": "https://localhost:8080/",
          "height": 290
        },
        "id": "LEu0GqE3Rffp",
        "outputId": "606ee911-f8de-44b2-af54-1414475197ef"
      },
      "source": [
        "pidata2[50000:].plot(x = 'tries', y= 'result');"
      ],
      "execution_count": 61,
      "outputs": [
        {
          "output_type": "display_data",
          "data": {
            "image/png": "[encoded data removed]",
            "text/plain": [
              "<Figure size 432x288 with 1 Axes>"
            ]
          },
          "metadata": {
            "tags": [],
            "needs_background": "light"
          }
        }
      ]
    },
    {
      "cell_type": "code",
      "metadata": {
        "colab": {
          "base_uri": "https://localhost:8080/"
        },
        "id": "qEK5gBMTQ4x3",
        "outputId": "0ef7d71e-330c-415c-e57b-0f49f52dab0b"
      },
      "source": [
        "pidata2.shape"
      ],
      "execution_count": 58,
      "outputs": [
        {
          "output_type": "execute_result",
          "data": {
            "text/plain": [
              "(100000, 2)"
            ]
          },
          "metadata": {
            "tags": []
          },
          "execution_count": 58
        }
      ]
    }
  ]
}