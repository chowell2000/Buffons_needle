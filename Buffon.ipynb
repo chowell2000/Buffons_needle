{
  "nbformat": 4,
  "nbformat_minor": 0,
  "metadata": {
    "colab": {
      "name": "Buffon.ipynb",
      "provenance": [],
      "collapsed_sections": []
    },
    "kernelspec": {
      "display_name": "Python 3",
      "name": "python3"
    },
    "language_info": {
      "name": "python"
    }
  },
  "cells": [
    {
      "cell_type": "code",
      "metadata": {
        "id": "9xNWhuZhHTek"
      },
      "source": [
        "try:\n",
        "    import google.colab\n",
        "\n",
        "    IN_COLAB = True\n",
        "except:\n",
        "    IN_COLAB = False\n",
        "\n",
        "if IN_COLAB:\n",
        "    from IPython.core.magic import register_cell_magic\n",
        "\n",
        "    @register_cell_magic\n",
        "    def printcell(line, cell):\n",
        "        print(cell)"
      ],
      "execution_count": null,
      "outputs": []
    },
    {
      "cell_type": "code",
      "metadata": {
        "id": "bOL_PBsNsOgs"
      },
      "source": [
        "import math\n",
        "import pandas as pd\n",
        "import random\n"
      ],
      "execution_count": null,
      "outputs": []
    },
    {
      "cell_type": "code",
      "metadata": {
        "id": "E7RT7OGkFB-W"
      },
      "source": [
        "rando = random.SystemRandom()"
      ],
      "execution_count": null,
      "outputs": []
    },
    {
      "cell_type": "code",
      "metadata": {
        "id": "7XcBP0HPrpo-"
      },
      "source": [
        "\n",
        "# crosses = 0\n",
        "# tries = 10000000\n",
        "# random.seed(7)\n",
        "\n",
        "# for i in range(tries):\n",
        "#   theta = rando.random() * math.pi *.5\n",
        "#   distance = rando.random() * .5\n",
        "#   #print(math.sin(theta))\n",
        "#   #print(distance)\n",
        "#   if math.sin(theta) * .5 >= distance:\n",
        "#     crosses += 1\n",
        "\n",
        "# print(crosses)\n",
        "# print(2 * tries/crosses)\n",
        "\n",
        "\n",
        "\n",
        "# crosses = 0\n",
        "# # tries = 1000000\n",
        "\n",
        "\n",
        "# for i in range(tries):\n",
        "#   theta = random.random() * math.pi *.5\n",
        "#   distance = random.random() * .5\n",
        "#   #print(math.sin(theta))\n",
        "#   #print(distance)\n",
        "#   if math.sin(theta) * .5 >= distance:\n",
        "#     crosses += 1\n",
        "\n",
        "# print(crosses)\n",
        "# print(2 * tries/crosses)"
      ],
      "execution_count": null,
      "outputs": []
    },
    {
      "cell_type": "code",
      "metadata": {
        "id": "Imqwy075VsQM"
      },
      "source": [
        ""
      ],
      "execution_count": null,
      "outputs": []
    },
    {
      "cell_type": "code",
      "metadata": {
        "colab": {
          "background_save": true
        },
        "id": "7eO0PRrME-YT"
      },
      "source": [
        "pilist = []\n",
        "crosses = 0\n",
        "tries = 1000\n",
        "random.seed(7)\n",
        "\n",
        "while tries < 1000000:\n",
        "  for i in range(tries):\n",
        "    theta = random.random() * math.pi *.5\n",
        "    distance = random.random() * .5\n",
        "    #print(math.sin(theta))\n",
        "    #print(distance)\n",
        "    if math.sin(theta) * .5 >= distance:\n",
        "      crosses += 1\n",
        "  \n",
        "  approxpi = 2 * tries/crosses\n",
        "  # temppi = {'tries': tries ,'result': approxpi}\n",
        "  # tempdict = [tries, approxpi]\n",
        "  pilist.append([tries, approxpi])\n",
        "  print(approxpi)\n",
        "  print(crosses)\n",
        "  # print(pidata)\n",
        "  tries += 1000\n",
        "  crosses = 0\n",
        "\n",
        "\n",
        "pidata = pd.DataFrame(data = pilist,columns=['tries', 'result'] )\n",
        "\n",
        "\n",
        "\n",
        "crosses = 0\n",
        "# tries = 1000000m\n",
        "\n",
        "\n",
        "for i in range(tries):\n",
        "  theta = random.random() * math.pi *.5\n",
        "  distance = random.random() * .5\n",
        "  #print(math.sin(theta))\n",
        "  #print(distance)\n",
        "  if math.sin(theta) * .5 >= distance:\n",
        "    crosses += 1\n",
        "\n",
        "print(crosses)\n",
        "print(2 * tries/crosses)"
      ],
      "execution_count": null,
      "outputs": []
    },
    {
      "cell_type": "code",
      "metadata": {
        "colab": {
          "background_save": true
        },
        "id": "wMG1c3JiCrJa",
        "outputId": "00f74a57-248d-4869-ac37-24420cb3866b"
      },
      "source": [
        "rando = random.SystemRandom()\n",
        "print(rando.random())"
      ],
      "execution_count": null,
      "outputs": [
        {
          "output_type": "stream",
          "text": [
            "0.3140449229075203\n"
          ],
          "name": "stdout"
        }
      ]
    },
    {
      "cell_type": "code",
      "metadata": {
        "colab": {
          "background_save": true
        },
        "id": "ZnOg_xo_kjk_",
        "outputId": "ff185200-dd8a-4bfe-e387-a7cf3a72fb36"
      },
      "source": [
        "pidata.head()"
      ],
      "execution_count": null,
      "outputs": [
        {
          "output_type": "execute_result",
          "data": {
            "text/html": [
              "<div>\n",
              "<style scoped>\n",
              "    .dataframe tbody tr th:only-of-type {\n",
              "        vertical-align: middle;\n",
              "    }\n",
              "\n",
              "    .dataframe tbody tr th {\n",
              "        vertical-align: top;\n",
              "    }\n",
              "\n",
              "    .dataframe thead th {\n",
              "        text-align: right;\n",
              "    }\n",
              "</style>\n",
              "<table border=\"1\" class=\"dataframe\">\n",
              "  <thead>\n",
              "    <tr style=\"text-align: right;\">\n",
              "      <th></th>\n",
              "      <th>tries</th>\n",
              "      <th>result</th>\n",
              "    </tr>\n",
              "  </thead>\n",
              "  <tbody>\n",
              "    <tr>\n",
              "      <th>0</th>\n",
              "      <td>1000</td>\n",
              "      <td>3.241491</td>\n",
              "    </tr>\n",
              "    <tr>\n",
              "      <th>1</th>\n",
              "      <td>2000</td>\n",
              "      <td>3.115265</td>\n",
              "    </tr>\n",
              "    <tr>\n",
              "      <th>2</th>\n",
              "      <td>3000</td>\n",
              "      <td>3.134796</td>\n",
              "    </tr>\n",
              "    <tr>\n",
              "      <th>3</th>\n",
              "      <td>4000</td>\n",
              "      <td>3.149606</td>\n",
              "    </tr>\n",
              "    <tr>\n",
              "      <th>4</th>\n",
              "      <td>5000</td>\n",
              "      <td>3.185728</td>\n",
              "    </tr>\n",
              "  </tbody>\n",
              "</table>\n",
              "</div>"
            ],
            "text/plain": [
              "   tries    result\n",
              "0   1000  3.241491\n",
              "1   2000  3.115265\n",
              "2   3000  3.134796\n",
              "3   4000  3.149606\n",
              "4   5000  3.185728"
            ]
          },
          "metadata": {
            "tags": []
          },
          "execution_count": 0
        }
      ]
    },
    {
      "cell_type": "code",
      "metadata": {
        "colab": {
          "background_save": true
        },
        "id": "xXrmCuS2Doue",
        "outputId": "d6692af7-8831-48ac-910b-c9540f76f426"
      },
      "source": [
        "# 'test'`\n",
        "pidata.head(15)\n",
        "pidata.tail(14)"
      ],
      "execution_count": null,
      "outputs": [
        {
          "output_type": "execute_result",
          "data": {
            "text/html": [
              "<div>\n",
              "<style scoped>\n",
              "    .dataframe tbody tr th:only-of-type {\n",
              "        vertical-align: middle;\n",
              "    }\n",
              "\n",
              "    .dataframe tbody tr th {\n",
              "        vertical-align: top;\n",
              "    }\n",
              "\n",
              "    .dataframe thead th {\n",
              "        text-align: right;\n",
              "    }\n",
              "</style>\n",
              "<table border=\"1\" class=\"dataframe\">\n",
              "  <thead>\n",
              "    <tr style=\"text-align: right;\">\n",
              "      <th></th>\n",
              "      <th>tries</th>\n",
              "      <th>result</th>\n",
              "    </tr>\n",
              "  </thead>\n",
              "  <tbody>\n",
              "    <tr>\n",
              "      <th>985</th>\n",
              "      <td>986000</td>\n",
              "      <td>3.144002</td>\n",
              "    </tr>\n",
              "    <tr>\n",
              "      <th>986</th>\n",
              "      <td>987000</td>\n",
              "      <td>3.142702</td>\n",
              "    </tr>\n",
              "    <tr>\n",
              "      <th>987</th>\n",
              "      <td>988000</td>\n",
              "      <td>3.142209</td>\n",
              "    </tr>\n",
              "    <tr>\n",
              "      <th>988</th>\n",
              "      <td>989000</td>\n",
              "      <td>3.142930</td>\n",
              "    </tr>\n",
              "    <tr>\n",
              "      <th>989</th>\n",
              "      <td>990000</td>\n",
              "      <td>3.137076</td>\n",
              "    </tr>\n",
              "    <tr>\n",
              "      <th>990</th>\n",
              "      <td>991000</td>\n",
              "      <td>3.145532</td>\n",
              "    </tr>\n",
              "    <tr>\n",
              "      <th>991</th>\n",
              "      <td>992000</td>\n",
              "      <td>3.140120</td>\n",
              "    </tr>\n",
              "    <tr>\n",
              "      <th>992</th>\n",
              "      <td>993000</td>\n",
              "      <td>3.141043</td>\n",
              "    </tr>\n",
              "    <tr>\n",
              "      <th>993</th>\n",
              "      <td>994000</td>\n",
              "      <td>3.139103</td>\n",
              "    </tr>\n",
              "    <tr>\n",
              "      <th>994</th>\n",
              "      <td>995000</td>\n",
              "      <td>3.140089</td>\n",
              "    </tr>\n",
              "    <tr>\n",
              "      <th>995</th>\n",
              "      <td>996000</td>\n",
              "      <td>3.141356</td>\n",
              "    </tr>\n",
              "    <tr>\n",
              "      <th>996</th>\n",
              "      <td>997000</td>\n",
              "      <td>3.140128</td>\n",
              "    </tr>\n",
              "    <tr>\n",
              "      <th>997</th>\n",
              "      <td>998000</td>\n",
              "      <td>3.143203</td>\n",
              "    </tr>\n",
              "    <tr>\n",
              "      <th>998</th>\n",
              "      <td>999000</td>\n",
              "      <td>3.137326</td>\n",
              "    </tr>\n",
              "  </tbody>\n",
              "</table>\n",
              "</div>"
            ],
            "text/plain": [
              "      tries    result\n",
              "985  986000  3.144002\n",
              "986  987000  3.142702\n",
              "987  988000  3.142209\n",
              "988  989000  3.142930\n",
              "989  990000  3.137076\n",
              "990  991000  3.145532\n",
              "991  992000  3.140120\n",
              "992  993000  3.141043\n",
              "993  994000  3.139103\n",
              "994  995000  3.140089\n",
              "995  996000  3.141356\n",
              "996  997000  3.140128\n",
              "997  998000  3.143203\n",
              "998  999000  3.137326"
            ]
          },
          "metadata": {
            "tags": []
          },
          "execution_count": 0
        }
      ]
    },
    {
      "cell_type": "code",
      "metadata": {
        "colab": {
          "background_save": true
        },
        "id": "TKTz3JcmvCfP",
        "outputId": "91f75808-2735-432f-9791-29a253ab31cb"
      },
      "source": [
        "pidata.describe()"
      ],
      "execution_count": null,
      "outputs": [
        {
          "output_type": "execute_result",
          "data": {
            "text/html": [
              "<div>\n",
              "<style scoped>\n",
              "    .dataframe tbody tr th:only-of-type {\n",
              "        vertical-align: middle;\n",
              "    }\n",
              "\n",
              "    .dataframe tbody tr th {\n",
              "        vertical-align: top;\n",
              "    }\n",
              "\n",
              "    .dataframe thead th {\n",
              "        text-align: right;\n",
              "    }\n",
              "</style>\n",
              "<table border=\"1\" class=\"dataframe\">\n",
              "  <thead>\n",
              "    <tr style=\"text-align: right;\">\n",
              "      <th></th>\n",
              "      <th>tries</th>\n",
              "      <th>result</th>\n",
              "    </tr>\n",
              "  </thead>\n",
              "  <tbody>\n",
              "    <tr>\n",
              "      <th>count</th>\n",
              "      <td>999.000000</td>\n",
              "      <td>999.000000</td>\n",
              "    </tr>\n",
              "    <tr>\n",
              "      <th>mean</th>\n",
              "      <td>500000.000000</td>\n",
              "      <td>3.141505</td>\n",
              "    </tr>\n",
              "    <tr>\n",
              "      <th>std</th>\n",
              "      <td>288530.760925</td>\n",
              "      <td>0.006551</td>\n",
              "    </tr>\n",
              "    <tr>\n",
              "      <th>min</th>\n",
              "      <td>1000.000000</td>\n",
              "      <td>3.099465</td>\n",
              "    </tr>\n",
              "    <tr>\n",
              "      <th>25%</th>\n",
              "      <td>250500.000000</td>\n",
              "      <td>3.139067</td>\n",
              "    </tr>\n",
              "    <tr>\n",
              "      <th>50%</th>\n",
              "      <td>500000.000000</td>\n",
              "      <td>3.141636</td>\n",
              "    </tr>\n",
              "    <tr>\n",
              "      <th>75%</th>\n",
              "      <td>749500.000000</td>\n",
              "      <td>3.144033</td>\n",
              "    </tr>\n",
              "    <tr>\n",
              "      <th>max</th>\n",
              "      <td>999000.000000</td>\n",
              "      <td>3.241491</td>\n",
              "    </tr>\n",
              "  </tbody>\n",
              "</table>\n",
              "</div>"
            ],
            "text/plain": [
              "               tries      result\n",
              "count     999.000000  999.000000\n",
              "mean   500000.000000    3.141505\n",
              "std    288530.760925    0.006551\n",
              "min      1000.000000    3.099465\n",
              "25%    250500.000000    3.139067\n",
              "50%    500000.000000    3.141636\n",
              "75%    749500.000000    3.144033\n",
              "max    999000.000000    3.241491"
            ]
          },
          "metadata": {
            "tags": []
          },
          "execution_count": 0
        }
      ]
    },
    {
      "cell_type": "code",
      "metadata": {
        "colab": {
          "background_save": true
        },
        "id": "1NQI-GCapiO-",
        "outputId": "41ba48d0-68eb-4bfe-ffc1-1de61d8ff449"
      },
      "source": [
        "pidata.head(\n",
        ")"
      ],
      "execution_count": null,
      "outputs": [
        {
          "output_type": "execute_result",
          "data": {
            "text/html": [
              "<div>\n",
              "<style scoped>\n",
              "    .dataframe tbody tr th:only-of-type {\n",
              "        vertical-align: middle;\n",
              "    }\n",
              "\n",
              "    .dataframe tbody tr th {\n",
              "        vertical-align: top;\n",
              "    }\n",
              "\n",
              "    .dataframe thead th {\n",
              "        text-align: right;\n",
              "    }\n",
              "</style>\n",
              "<table border=\"1\" class=\"dataframe\">\n",
              "  <thead>\n",
              "    <tr style=\"text-align: right;\">\n",
              "      <th></th>\n",
              "      <th>tries</th>\n",
              "      <th>result</th>\n",
              "    </tr>\n",
              "  </thead>\n",
              "  <tbody>\n",
              "    <tr>\n",
              "      <th>0</th>\n",
              "      <td>1000</td>\n",
              "      <td>3.241491</td>\n",
              "    </tr>\n",
              "    <tr>\n",
              "      <th>1</th>\n",
              "      <td>2000</td>\n",
              "      <td>3.115265</td>\n",
              "    </tr>\n",
              "    <tr>\n",
              "      <th>2</th>\n",
              "      <td>3000</td>\n",
              "      <td>3.134796</td>\n",
              "    </tr>\n",
              "    <tr>\n",
              "      <th>3</th>\n",
              "      <td>4000</td>\n",
              "      <td>3.149606</td>\n",
              "    </tr>\n",
              "    <tr>\n",
              "      <th>4</th>\n",
              "      <td>5000</td>\n",
              "      <td>3.185728</td>\n",
              "    </tr>\n",
              "  </tbody>\n",
              "</table>\n",
              "</div>"
            ],
            "text/plain": [
              "   tries    result\n",
              "0   1000  3.241491\n",
              "1   2000  3.115265\n",
              "2   3000  3.134796\n",
              "3   4000  3.149606\n",
              "4   5000  3.185728"
            ]
          },
          "metadata": {
            "tags": []
          },
          "execution_count": 0
        }
      ]
    }
  ]
}